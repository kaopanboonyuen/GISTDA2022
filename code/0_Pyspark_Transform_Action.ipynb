{
 "cells": [
  {
   "cell_type": "markdown",
   "metadata": {
    "id": "j0byTHAausbp"
   },
   "source": [
    "# Spark Preparation\n",
    "We check if we are in Google Colab.  If this is the case, install all necessary packages.\n",
    "\n",
    "To run spark in Colab, we need to first install all the dependencies in Colab environment i.e. Apache Spark 3.2.1 with hadoop 3.2, Java 8 and Findspark to locate the spark in the system. The tools installation can be carried out inside the Jupyter Notebook of the Colab.\n",
    "Learn more from [A Must-Read Guide on How to Work with PySpark on Google Colab for Data Scientists!](https://www.analyticsvidhya.com/blog/2020/11/a-must-read-guide-on-how-to-work-with-pyspark-on-google-colab-for-data-scientists/)"
   ]
  },
  {
   "cell_type": "code",
   "execution_count": 11,
   "metadata": {
    "id": "t1QkMacWPFYL"
   },
   "outputs": [],
   "source": [
    "try:\n",
    "  import google.colab\n",
    "  IN_COLAB = True\n",
    "except:\n",
    "  IN_COLAB = False"
   ]
  },
  {
   "cell_type": "code",
   "execution_count": 12,
   "metadata": {
    "id": "tZhGv5Iau0Rd"
   },
   "outputs": [],
   "source": [
    "if IN_COLAB:\n",
    "    !apt-get install openjdk-8-jdk-headless -qq > /dev/null\n",
    "    !wget -q https://dlcdn.apache.org/spark/spark-3.2.1/spark-3.2.1-bin-hadoop3.2.tgz\n",
    "    !tar xf spark-3.2.1-bin-hadoop3.2.tgz\n",
    "    !mv spark-3.2.1-bin-hadoop3.2 spark\n",
    "    !pip install -q findspark"
   ]
  },
  {
   "cell_type": "code",
   "execution_count": 13,
   "metadata": {
    "id": "EQxBEJsju0hx"
   },
   "outputs": [],
   "source": [
    "if IN_COLAB:\n",
    "  import os\n",
    "  os.environ[\"JAVA_HOME\"] = \"/usr/lib/jvm/java-8-openjdk-amd64\"\n",
    "  os.environ[\"SPARK_HOME\"] = \"/content/spark\""
   ]
  },
  {
   "cell_type": "code",
   "execution_count": null,
   "metadata": {},
   "outputs": [],
   "source": [
    "import findspark\n",
    "findspark.init()"
   ]
  },
  {
   "cell_type": "markdown",
   "metadata": {
    "id": "s1i9INFM-yUr"
   },
   "source": [
    "# Pyspark_Transform_Action"
   ]
  },
  {
   "cell_type": "code",
   "execution_count": 14,
   "metadata": {
    "colab": {
     "base_uri": "https://localhost:8080/",
     "height": 198
    },
    "id": "kMN63TQq-yUt",
    "outputId": "e5b9a485-1bb5-47bd-cd2d-2bb44ee5127e"
   },
   "outputs": [
    {
     "data": {
      "text/html": [
       "\n",
       "        <div>\n",
       "            <p><b>SparkContext</b></p>\n",
       "\n",
       "            <p><a href=\"http://44ca100cfc62:4040\">Spark UI</a></p>\n",
       "\n",
       "            <dl>\n",
       "              <dt>Version</dt>\n",
       "                <dd><code>v3.1.2</code></dd>\n",
       "              <dt>Master</dt>\n",
       "                <dd><code>local[*]</code></dd>\n",
       "              <dt>AppName</dt>\n",
       "                <dd><code>pyspark-shell</code></dd>\n",
       "            </dl>\n",
       "        </div>\n",
       "        "
      ],
      "text/plain": [
       "<SparkContext master=local[*] appName=pyspark-shell>"
      ]
     },
     "execution_count": 14,
     "metadata": {},
     "output_type": "execute_result"
    }
   ],
   "source": [
    "from pyspark import SparkContext\n",
    "import numpy as np\n",
    "\n",
    "sc = sc = SparkContext.getOrCreate()\n",
    "sc"
   ]
  },
  {
   "cell_type": "code",
   "execution_count": 15,
   "metadata": {
    "colab": {
     "base_uri": "https://localhost:8080/"
    },
    "id": "rW0OGAAt-yU2",
    "outputId": "61bb353a-542e-4bac-a302-f17a3e85c3bc"
   },
   "outputs": [
    {
     "data": {
      "text/plain": [
       "[('Dog', 1), ('Cat', 1), ('Bird', 1)]"
      ]
     },
     "execution_count": 15,
     "metadata": {},
     "output_type": "execute_result"
    }
   ],
   "source": [
    "rdd = sc.parallelize([\"Dog\", \"Cat\", \"Bird\"])\n",
    "rdd.map(lambda x: (x, 1)).collect()"
   ]
  },
  {
   "cell_type": "code",
   "execution_count": 16,
   "metadata": {
    "id": "eHOclU8F-yVL"
   },
   "outputs": [],
   "source": [
    "##Transform\n",
    "rdd2 = rdd.map(lambda x: (x, 1 * np.random.normal()))"
   ]
  },
  {
   "cell_type": "code",
   "execution_count": 17,
   "metadata": {
    "colab": {
     "base_uri": "https://localhost:8080/"
    },
    "id": "VcWUAwg7-yVU",
    "outputId": "349be781-1d1f-4911-e6fc-5ade54837adc"
   },
   "outputs": [
    {
     "data": {
      "text/plain": [
       "[('Dog', 0.7612416651543428),\n",
       " ('Cat', 0.7612416651543428),\n",
       " ('Bird', -0.557197590204293)]"
      ]
     },
     "execution_count": 17,
     "metadata": {},
     "output_type": "execute_result"
    }
   ],
   "source": [
    "#Action\n",
    "rdd2.collect()"
   ]
  },
  {
   "cell_type": "code",
   "execution_count": 18,
   "metadata": {
    "colab": {
     "base_uri": "https://localhost:8080/"
    },
    "id": "ZkUPlHJt-yVY",
    "outputId": "71f9efaf-bcc6-4c7a-8de5-08c2a8225a53"
   },
   "outputs": [
    {
     "data": {
      "text/plain": [
       "[('Dog', 0.6655738097508176),\n",
       " ('Cat', -0.557197590204293),\n",
       " ('Bird', 0.6655738097508176)]"
      ]
     },
     "execution_count": 18,
     "metadata": {},
     "output_type": "execute_result"
    }
   ],
   "source": [
    "#Action\n",
    "rdd2.collect()"
   ]
  },
  {
   "cell_type": "code",
   "execution_count": 18,
   "metadata": {
    "id": "AnKDdQUU-yVf"
   },
   "outputs": [],
   "source": []
  },
  {
   "cell_type": "code",
   "execution_count": 19,
   "metadata": {
    "colab": {
     "base_uri": "https://localhost:8080/"
    },
    "id": "XCIyyga2-yVi",
    "outputId": "ca9a3cce-943c-411e-e49d-ce05c856b456"
   },
   "outputs": [
    {
     "data": {
      "text/plain": [
       "PythonRDD[5] at collect at <ipython-input-17-45b290479d81>:2"
      ]
     },
     "execution_count": 19,
     "metadata": {},
     "output_type": "execute_result"
    }
   ],
   "source": [
    "#cache\n",
    "rdd2.cache()"
   ]
  },
  {
   "cell_type": "code",
   "execution_count": 20,
   "metadata": {
    "colab": {
     "base_uri": "https://localhost:8080/"
    },
    "id": "ry47eTf7-yVo",
    "outputId": "dc3cfb6b-4865-455f-9d9f-f5cb2b325748"
   },
   "outputs": [
    {
     "data": {
      "text/plain": [
       "[('Dog', 1.4743553968165124),\n",
       " ('Cat', 1.4743553968165124),\n",
       " ('Bird', -0.03094973090168888)]"
      ]
     },
     "execution_count": 20,
     "metadata": {},
     "output_type": "execute_result"
    }
   ],
   "source": [
    "#Action\n",
    "rdd2.collect()"
   ]
  },
  {
   "cell_type": "code",
   "execution_count": 21,
   "metadata": {
    "colab": {
     "base_uri": "https://localhost:8080/"
    },
    "id": "K9rJp7y1-yVt",
    "outputId": "88c3918a-e623-4c6b-c70a-a4bcba0d636b"
   },
   "outputs": [
    {
     "data": {
      "text/plain": [
       "[('Dog', 1.4743553968165124),\n",
       " ('Cat', 1.4743553968165124),\n",
       " ('Bird', -0.03094973090168888)]"
      ]
     },
     "execution_count": 21,
     "metadata": {},
     "output_type": "execute_result"
    }
   ],
   "source": [
    "#Action\n",
    "rdd2.collect()"
   ]
  }
 ],
 "metadata": {
  "colab": {
   "collapsed_sections": [],
   "name": "1_Pyspark_Transform_Action.ipynb",
   "provenance": []
  },
  "kernelspec": {
   "display_name": "Python 3",
   "language": "python",
   "name": "python3"
  },
  "language_info": {
   "codemirror_mode": {
    "name": "ipython",
    "version": 3
   },
   "file_extension": ".py",
   "mimetype": "text/x-python",
   "name": "python",
   "nbconvert_exporter": "python",
   "pygments_lexer": "ipython3",
   "version": "3.8.3"
  },
  "toc": {
   "base_numbering": 1,
   "nav_menu": {},
   "number_sections": true,
   "sideBar": true,
   "skip_h1_title": false,
   "title_cell": "Table of Contents",
   "title_sidebar": "Contents",
   "toc_cell": false,
   "toc_position": {},
   "toc_section_display": true,
   "toc_window_display": false
  }
 },
 "nbformat": 4,
 "nbformat_minor": 1
}
