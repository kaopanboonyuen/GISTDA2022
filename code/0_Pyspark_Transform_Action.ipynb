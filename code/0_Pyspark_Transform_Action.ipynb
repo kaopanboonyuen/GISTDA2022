{
  "nbformat": 4,
  "nbformat_minor": 0,
  "metadata": {
    "kernelspec": {
      "name": "python3",
      "display_name": "Python 3"
    },
    "colab": {
      "name": "1_Pyspark_Transform_Action.ipynb",
      "provenance": [],
      "collapsed_sections": []
    },
    "language_info": {
      "name": "python"
    }
  },
  "cells": [
    {
      "cell_type": "markdown",
      "source": [
        "# Spark Preparation\n",
        "We check if we are in Google Colab.  If this is the case, install all necessary packages.\n",
        "\n",
        "To run spark in Colab, we need to first install all the dependencies in Colab environment i.e. Apache Spark 3.2.1 with hadoop 3.2, Java 8 and Findspark to locate the spark in the system. The tools installation can be carried out inside the Jupyter Notebook of the Colab.\n",
        "Learn more from [A Must-Read Guide on How to Work with PySpark on Google Colab for Data Scientists!](https://www.analyticsvidhya.com/blog/2020/11/a-must-read-guide-on-how-to-work-with-pyspark-on-google-colab-for-data-scientists/)"
      ],
      "metadata": {
        "id": "j0byTHAausbp"
      }
    },
    {
      "cell_type": "code",
      "metadata": {
        "id": "t1QkMacWPFYL"
      },
      "source": [
        "try:\n",
        "  import google.colab\n",
        "  IN_COLAB = True\n",
        "except:\n",
        "  IN_COLAB = False"
      ],
      "execution_count": 11,
      "outputs": []
    },
    {
      "cell_type": "code",
      "source": [
        "if IN_COLAB:\n",
        "    !apt-get install openjdk-8-jdk-headless -qq > /dev/null\n",
        "    !wget -q https://dlcdn.apache.org/spark/spark-3.2.1/spark-3.2.1-bin-hadoop3.2.tgz\n",
        "    !tar xf spark-3.2.1-bin-hadoop3.2.tgz\n",
        "    !mv spark-3.2.1-bin-hadoop3.2 spark\n",
        "    !pip install -q findspark"
      ],
      "metadata": {
        "id": "tZhGv5Iau0Rd"
      },
      "execution_count": 12,
      "outputs": []
    },
    {
      "cell_type": "code",
      "source": [
        "if IN_COLAB:\n",
        "  import os\n",
        "  os.environ[\"JAVA_HOME\"] = \"/usr/lib/jvm/java-8-openjdk-amd64\"\n",
        "  os.environ[\"SPARK_HOME\"] = \"/content/spark\""
      ],
      "metadata": {
        "id": "EQxBEJsju0hx"
      },
      "execution_count": 13,
      "outputs": []
    },
    {
      "cell_type": "markdown",
      "metadata": {
        "id": "s1i9INFM-yUr"
      },
      "source": [
        "# Pyspark_Transform_Action"
      ]
    },
    {
      "cell_type": "code",
      "metadata": {
        "id": "kMN63TQq-yUt",
        "colab": {
          "base_uri": "https://localhost:8080/",
          "height": 198
        },
        "outputId": "e5b9a485-1bb5-47bd-cd2d-2bb44ee5127e"
      },
      "source": [
        "from pyspark import SparkContext\n",
        "\n",
        "sc = sc = SparkContext.getOrCreate()\n",
        "sc"
      ],
      "execution_count": 14,
      "outputs": [
        {
          "output_type": "execute_result",
          "data": {
            "text/plain": [
              "<SparkContext master=local[*] appName=pyspark-shell>"
            ],
            "text/html": [
              "\n",
              "        <div>\n",
              "            <p><b>SparkContext</b></p>\n",
              "\n",
              "            <p><a href=\"http://44ca100cfc62:4040\">Spark UI</a></p>\n",
              "\n",
              "            <dl>\n",
              "              <dt>Version</dt>\n",
              "                <dd><code>v3.1.2</code></dd>\n",
              "              <dt>Master</dt>\n",
              "                <dd><code>local[*]</code></dd>\n",
              "              <dt>AppName</dt>\n",
              "                <dd><code>pyspark-shell</code></dd>\n",
              "            </dl>\n",
              "        </div>\n",
              "        "
            ]
          },
          "metadata": {},
          "execution_count": 14
        }
      ]
    },
    {
      "cell_type": "code",
      "metadata": {
        "id": "rW0OGAAt-yU2",
        "colab": {
          "base_uri": "https://localhost:8080/"
        },
        "outputId": "61bb353a-542e-4bac-a302-f17a3e85c3bc"
      },
      "source": [
        "rdd = sc.parallelize([\"Dog\", \"Cat\", \"Bird\"])\n",
        "rdd.map(lambda x: (x, 1)).collect()"
      ],
      "execution_count": 15,
      "outputs": [
        {
          "output_type": "execute_result",
          "data": {
            "text/plain": [
              "[('Dog', 1), ('Cat', 1), ('Bird', 1)]"
            ]
          },
          "metadata": {},
          "execution_count": 15
        }
      ]
    },
    {
      "cell_type": "code",
      "metadata": {
        "id": "eHOclU8F-yVL"
      },
      "source": [
        "##Transform\n",
        "rdd2 = rdd.map(lambda x: (x, 1 * np.random.normal()))"
      ],
      "execution_count": 16,
      "outputs": []
    },
    {
      "cell_type": "code",
      "metadata": {
        "id": "VcWUAwg7-yVU",
        "colab": {
          "base_uri": "https://localhost:8080/"
        },
        "outputId": "349be781-1d1f-4911-e6fc-5ade54837adc"
      },
      "source": [
        "#Action\n",
        "rdd2.collect()"
      ],
      "execution_count": 17,
      "outputs": [
        {
          "output_type": "execute_result",
          "data": {
            "text/plain": [
              "[('Dog', 0.7612416651543428),\n",
              " ('Cat', 0.7612416651543428),\n",
              " ('Bird', -0.557197590204293)]"
            ]
          },
          "metadata": {},
          "execution_count": 17
        }
      ]
    },
    {
      "cell_type": "code",
      "metadata": {
        "id": "ZkUPlHJt-yVY",
        "colab": {
          "base_uri": "https://localhost:8080/"
        },
        "outputId": "71f9efaf-bcc6-4c7a-8de5-08c2a8225a53"
      },
      "source": [
        "#Action\n",
        "rdd2.collect()"
      ],
      "execution_count": 18,
      "outputs": [
        {
          "output_type": "execute_result",
          "data": {
            "text/plain": [
              "[('Dog', 0.6655738097508176),\n",
              " ('Cat', -0.557197590204293),\n",
              " ('Bird', 0.6655738097508176)]"
            ]
          },
          "metadata": {},
          "execution_count": 18
        }
      ]
    },
    {
      "cell_type": "code",
      "metadata": {
        "id": "AnKDdQUU-yVf"
      },
      "source": [
        ""
      ],
      "execution_count": 18,
      "outputs": []
    },
    {
      "cell_type": "code",
      "metadata": {
        "id": "XCIyyga2-yVi",
        "colab": {
          "base_uri": "https://localhost:8080/"
        },
        "outputId": "ca9a3cce-943c-411e-e49d-ce05c856b456"
      },
      "source": [
        "#cache\n",
        "rdd2.cache()"
      ],
      "execution_count": 19,
      "outputs": [
        {
          "output_type": "execute_result",
          "data": {
            "text/plain": [
              "PythonRDD[5] at collect at <ipython-input-17-45b290479d81>:2"
            ]
          },
          "metadata": {},
          "execution_count": 19
        }
      ]
    },
    {
      "cell_type": "code",
      "metadata": {
        "id": "ry47eTf7-yVo",
        "colab": {
          "base_uri": "https://localhost:8080/"
        },
        "outputId": "dc3cfb6b-4865-455f-9d9f-f5cb2b325748"
      },
      "source": [
        "#Action\n",
        "rdd2.collect()"
      ],
      "execution_count": 20,
      "outputs": [
        {
          "output_type": "execute_result",
          "data": {
            "text/plain": [
              "[('Dog', 1.4743553968165124),\n",
              " ('Cat', 1.4743553968165124),\n",
              " ('Bird', -0.03094973090168888)]"
            ]
          },
          "metadata": {},
          "execution_count": 20
        }
      ]
    },
    {
      "cell_type": "code",
      "metadata": {
        "id": "K9rJp7y1-yVt",
        "colab": {
          "base_uri": "https://localhost:8080/"
        },
        "outputId": "88c3918a-e623-4c6b-c70a-a4bcba0d636b"
      },
      "source": [
        "#Action\n",
        "rdd2.collect()"
      ],
      "execution_count": 21,
      "outputs": [
        {
          "output_type": "execute_result",
          "data": {
            "text/plain": [
              "[('Dog', 1.4743553968165124),\n",
              " ('Cat', 1.4743553968165124),\n",
              " ('Bird', -0.03094973090168888)]"
            ]
          },
          "metadata": {},
          "execution_count": 21
        }
      ]
    }
  ]
}