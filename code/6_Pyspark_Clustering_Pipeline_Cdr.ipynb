{
  "nbformat": 4,
  "nbformat_minor": 0,
  "metadata": {
    "kernelspec": {
      "name": "python3",
      "display_name": "Python 3"
    },
    "colab": {
      "name": "5_Pyspark_Clustering_Pipeline_Cdr.ipynb",
      "provenance": [],
      "collapsed_sections": []
    },
    "language_info": {
      "name": "python"
    }
  },
  "cells": [
    {
      "cell_type": "markdown",
      "source": [
        "# Spark Preparation\n",
        "We check if we are in Google Colab.  If this is the case, install all necessary packages.\n",
        "\n",
        "To run spark in Colab, we need to first install all the dependencies in Colab environment i.e. Apache Spark 3.2.1 with hadoop 3.2, Java 8 and Findspark to locate the spark in the system. The tools installation can be carried out inside the Jupyter Notebook of the Colab.\n",
        "Learn more from [A Must-Read Guide on How to Work with PySpark on Google Colab for Data Scientists!](https://www.analyticsvidhya.com/blog/2020/11/a-must-read-guide-on-how-to-work-with-pyspark-on-google-colab-for-data-scientists/)\n",
        "\n",
        "credit: Natawut Nupairoj"
      ],
      "metadata": {
        "id": "P_ipspAz0rBX"
      }
    },
    {
      "cell_type": "code",
      "metadata": {
        "id": "kt69o-zSTWJ4"
      },
      "source": [
        "try:\n",
        "  import google.colab\n",
        "  IN_COLAB = True\n",
        "except:\n",
        "  IN_COLAB = False"
      ],
      "execution_count": 1,
      "outputs": []
    },
    {
      "cell_type": "code",
      "metadata": {
        "id": "VeCDS-o4TXYf"
      },
      "source": [
        "if IN_COLAB:\n",
        "    !apt-get install openjdk-8-jdk-headless -qq > /dev/null\n",
        "    !wget -q https://dlcdn.apache.org/spark/spark-3.2.1/spark-3.2.1-bin-hadoop3.2.tgz\n",
        "    !tar xf spark-3.2.1-bin-hadoop3.2.tgz\n",
        "    !mv spark-3.2.1-bin-hadoop3.2 spark\n",
        "    !pip install -q findspark"
      ],
      "execution_count": 2,
      "outputs": []
    },
    {
      "cell_type": "code",
      "source": [
        "if IN_COLAB:\n",
        "  import os\n",
        "  os.environ[\"JAVA_HOME\"] = \"/usr/lib/jvm/java-8-openjdk-amd64\"\n",
        "  os.environ[\"SPARK_HOME\"] = \"/content/spark\""
      ],
      "metadata": {
        "id": "dnmxISc10uR-"
      },
      "execution_count": 3,
      "outputs": []
    },
    {
      "cell_type": "code",
      "source": [
        "import findspark\n",
        "findspark.init()"
      ],
      "metadata": {
        "id": "FS967oPi0uHx"
      },
      "execution_count": 4,
      "outputs": []
    },
    {
      "cell_type": "markdown",
      "metadata": {
        "id": "o-kdwpk-TUpL"
      },
      "source": [
        "# Pyspark_Clustering_Pipeline_Cdr"
      ]
    },
    {
      "cell_type": "code",
      "metadata": {
        "id": "cWvtTPTaTUpN"
      },
      "source": [
        "#1 - import module\n",
        "from pyspark import SparkContext,SparkConf\n",
        "from pyspark.sql import SparkSession\n",
        "from pyspark.ml import Pipeline\n",
        "from pyspark.ml.clustering import KMeans\n",
        "from pyspark.ml.feature import VectorAssembler,MaxAbsScaler"
      ],
      "execution_count": 5,
      "outputs": []
    },
    {
      "cell_type": "code",
      "metadata": {
        "id": "PQEzDaJnTUpR"
      },
      "source": [
        "#2 - Create SparkContext\n",
        "from pyspark import SparkContext\n",
        "\n",
        "sc = SparkContext.getOrCreate()"
      ],
      "execution_count": 6,
      "outputs": []
    },
    {
      "cell_type": "code",
      "metadata": {
        "id": "xAB-Dur0TUpW",
        "colab": {
          "base_uri": "https://localhost:8080/",
          "height": 198
        },
        "outputId": "2616107d-2899-4698-a6d9-1c76ee2a99e2"
      },
      "source": [
        "sc"
      ],
      "execution_count": 7,
      "outputs": [
        {
          "output_type": "execute_result",
          "data": {
            "text/plain": [
              "<SparkContext master=local[*] appName=pyspark-shell>"
            ],
            "text/html": [
              "\n",
              "        <div>\n",
              "            <p><b>SparkContext</b></p>\n",
              "\n",
              "            <p><a href=\"http://e9dbea06cbc7:4040\">Spark UI</a></p>\n",
              "\n",
              "            <dl>\n",
              "              <dt>Version</dt>\n",
              "                <dd><code>v3.2.1</code></dd>\n",
              "              <dt>Master</dt>\n",
              "                <dd><code>local[*]</code></dd>\n",
              "              <dt>AppName</dt>\n",
              "                <dd><code>pyspark-shell</code></dd>\n",
              "            </dl>\n",
              "        </div>\n",
              "        "
            ]
          },
          "metadata": {},
          "execution_count": 7
        }
      ]
    },
    {
      "cell_type": "code",
      "metadata": {
        "id": "RU2N8mYLTUpd",
        "colab": {
          "base_uri": "https://localhost:8080/"
        },
        "outputId": "a875ee5c-a19e-4202-f5b3-4e297232fa3f"
      },
      "source": [
        "sc._conf.getAll()"
      ],
      "execution_count": 8,
      "outputs": [
        {
          "output_type": "execute_result",
          "data": {
            "text/plain": [
              "[('spark.rdd.compress', 'True'),\n",
              " ('spark.serializer.objectStreamReset', '100'),\n",
              " ('spark.driver.host', 'e9dbea06cbc7'),\n",
              " ('spark.master', 'local[*]'),\n",
              " ('spark.submit.pyFiles', ''),\n",
              " ('spark.app.startTime', '1647788178705'),\n",
              " ('spark.executor.id', 'driver'),\n",
              " ('spark.submit.deployMode', 'client'),\n",
              " ('spark.app.id', 'local-1647788180625'),\n",
              " ('spark.ui.showConsoleProgress', 'true'),\n",
              " ('spark.app.name', 'pyspark-shell'),\n",
              " ('spark.driver.port', '44369')]"
            ]
          },
          "metadata": {},
          "execution_count": 8
        }
      ]
    },
    {
      "cell_type": "code",
      "metadata": {
        "id": "SIpKmQ0QTUpg",
        "colab": {
          "base_uri": "https://localhost:8080/"
        },
        "outputId": "7fa40a91-8005-4f10-ea0d-899f492fe0dd"
      },
      "source": [
        "print  (sc.getConf().toDebugString())"
      ],
      "execution_count": 9,
      "outputs": [
        {
          "output_type": "stream",
          "name": "stdout",
          "text": [
            "spark.app.id=local-1647788180625\n",
            "spark.app.name=pyspark-shell\n",
            "spark.app.startTime=1647788178705\n",
            "spark.driver.host=e9dbea06cbc7\n",
            "spark.driver.port=44369\n",
            "spark.executor.id=driver\n",
            "spark.master=local[*]\n",
            "spark.rdd.compress=True\n",
            "spark.serializer.objectStreamReset=100\n",
            "spark.submit.deployMode=client\n",
            "spark.submit.pyFiles=\n",
            "spark.ui.showConsoleProgress=true\n"
          ]
        }
      ]
    },
    {
      "cell_type": "code",
      "metadata": {
        "id": "CXxXK_1-TUpm",
        "colab": {
          "base_uri": "https://localhost:8080/"
        },
        "outputId": "6de400ca-d452-4318-df71-bfa7078a85c9"
      },
      "source": [
        "#3 - Setup SparkSession(SparkSQL)\n",
        "spark = (SparkSession\n",
        "         .builder\n",
        "         .appName(\"Pyspark_Clustering_Pipeline_Cdr\")\n",
        "         .getOrCreate())\n",
        "print (spark)"
      ],
      "execution_count": 10,
      "outputs": [
        {
          "output_type": "stream",
          "name": "stdout",
          "text": [
            "<pyspark.sql.session.SparkSession object at 0x7f7122457850>\n"
          ]
        }
      ]
    },
    {
      "cell_type": "code",
      "source": [
        "!wget https://github.com/kaopanboonyuen/GISTDA2022/raw/main/dataset/cdr_extractFeatures.csv"
      ],
      "metadata": {
        "colab": {
          "base_uri": "https://localhost:8080/"
        },
        "id": "WbexQJ9F00E3",
        "outputId": "09523302-0a9f-458c-b7c4-e23f769f2cd2"
      },
      "execution_count": 11,
      "outputs": [
        {
          "output_type": "stream",
          "name": "stdout",
          "text": [
            "--2022-03-20 14:56:23--  https://github.com/kaopanboonyuen/GISTDA2022/raw/main/dataset/cdr_extractFeatures.csv\n",
            "Resolving github.com (github.com)... 140.82.112.3\n",
            "Connecting to github.com (github.com)|140.82.112.3|:443... connected.\n",
            "HTTP request sent, awaiting response... 302 Found\n",
            "Location: https://raw.githubusercontent.com/kaopanboonyuen/GISTDA2022/main/dataset/cdr_extractFeatures.csv [following]\n",
            "--2022-03-20 14:56:23--  https://raw.githubusercontent.com/kaopanboonyuen/GISTDA2022/main/dataset/cdr_extractFeatures.csv\n",
            "Resolving raw.githubusercontent.com (raw.githubusercontent.com)... 185.199.108.133, 185.199.109.133, 185.199.110.133, ...\n",
            "Connecting to raw.githubusercontent.com (raw.githubusercontent.com)|185.199.108.133|:443... connected.\n",
            "HTTP request sent, awaiting response... 200 OK\n",
            "Length: 28541 (28K) [text/plain]\n",
            "Saving to: ‘cdr_extractFeatures.csv’\n",
            "\n",
            "cdr_extractFeatures 100%[===================>]  27.87K  --.-KB/s    in 0.001s  \n",
            "\n",
            "2022-03-20 14:56:23 (33.6 MB/s) - ‘cdr_extractFeatures.csv’ saved [28541/28541]\n",
            "\n"
          ]
        }
      ]
    },
    {
      "cell_type": "code",
      "metadata": {
        "id": "adKrBQpCTUpp",
        "colab": {
          "base_uri": "https://localhost:8080/"
        },
        "outputId": "9d10a6c5-365a-4a07-ead4-f5e3738377c2"
      },
      "source": [
        "#4 - Read file to spark DataFrame\n",
        "\n",
        "data = (spark\n",
        "        .read\n",
        "        .option(\"header\",\"true\")\n",
        "        .option(\"inferSchema\", \"true\")\n",
        "        .csv(\"cdr_extractFeatures.csv\"))\n",
        "data.cache()\n",
        "print (\"finish caching data\")"
      ],
      "execution_count": 12,
      "outputs": [
        {
          "output_type": "stream",
          "name": "stdout",
          "text": [
            "finish caching data\n"
          ]
        }
      ]
    },
    {
      "cell_type": "code",
      "metadata": {
        "id": "nx-e7mc5TUpt",
        "colab": {
          "base_uri": "https://localhost:8080/",
          "height": 206
        },
        "outputId": "84323882-5664-452f-a551-8a5cc0267d94"
      },
      "source": [
        "data.describe().toPandas()"
      ],
      "execution_count": 13,
      "outputs": [
        {
          "output_type": "execute_result",
          "data": {
            "text/plain": [
              "  summary     uniquePN    no_CallIn_Unique   no_CallOut_Unique  \\\n",
              "0   count          501                 501                 501   \n",
              "1    mean         None  19.560878243512974  19.560878243512974   \n",
              "2  stddev         None   4.306133582129764   4.322821581692413   \n",
              "3     min  089-1000000                   9                   7   \n",
              "4     max  089-1000500                  33                  33   \n",
              "\n",
              "            no_CallIn          no_CallOut  avg_CallIn_Length  \\\n",
              "0                 501                 501                501   \n",
              "1  19.960079840319363  19.960079840319363  305.5274154043913   \n",
              "2   4.407993102718377   4.397999908323414  38.40930235550977   \n",
              "3                   9                   7        177.6315789   \n",
              "4                  33                  34        421.0714286   \n",
              "\n",
              "   avg_CallOut_Length    avg_Call_Length  \n",
              "0                 501                501  \n",
              "1  306.42700035149676  305.8882365878245  \n",
              "2  38.123520925514285  27.72859975460591  \n",
              "3         176.1666667        216.9090909  \n",
              "4         437.2857143            384.975  "
            ],
            "text/html": [
              "\n",
              "  <div id=\"df-49cab08e-43c7-44df-963f-171631ed1293\">\n",
              "    <div class=\"colab-df-container\">\n",
              "      <div>\n",
              "<style scoped>\n",
              "    .dataframe tbody tr th:only-of-type {\n",
              "        vertical-align: middle;\n",
              "    }\n",
              "\n",
              "    .dataframe tbody tr th {\n",
              "        vertical-align: top;\n",
              "    }\n",
              "\n",
              "    .dataframe thead th {\n",
              "        text-align: right;\n",
              "    }\n",
              "</style>\n",
              "<table border=\"1\" class=\"dataframe\">\n",
              "  <thead>\n",
              "    <tr style=\"text-align: right;\">\n",
              "      <th></th>\n",
              "      <th>summary</th>\n",
              "      <th>uniquePN</th>\n",
              "      <th>no_CallIn_Unique</th>\n",
              "      <th>no_CallOut_Unique</th>\n",
              "      <th>no_CallIn</th>\n",
              "      <th>no_CallOut</th>\n",
              "      <th>avg_CallIn_Length</th>\n",
              "      <th>avg_CallOut_Length</th>\n",
              "      <th>avg_Call_Length</th>\n",
              "    </tr>\n",
              "  </thead>\n",
              "  <tbody>\n",
              "    <tr>\n",
              "      <th>0</th>\n",
              "      <td>count</td>\n",
              "      <td>501</td>\n",
              "      <td>501</td>\n",
              "      <td>501</td>\n",
              "      <td>501</td>\n",
              "      <td>501</td>\n",
              "      <td>501</td>\n",
              "      <td>501</td>\n",
              "      <td>501</td>\n",
              "    </tr>\n",
              "    <tr>\n",
              "      <th>1</th>\n",
              "      <td>mean</td>\n",
              "      <td>None</td>\n",
              "      <td>19.560878243512974</td>\n",
              "      <td>19.560878243512974</td>\n",
              "      <td>19.960079840319363</td>\n",
              "      <td>19.960079840319363</td>\n",
              "      <td>305.5274154043913</td>\n",
              "      <td>306.42700035149676</td>\n",
              "      <td>305.8882365878245</td>\n",
              "    </tr>\n",
              "    <tr>\n",
              "      <th>2</th>\n",
              "      <td>stddev</td>\n",
              "      <td>None</td>\n",
              "      <td>4.306133582129764</td>\n",
              "      <td>4.322821581692413</td>\n",
              "      <td>4.407993102718377</td>\n",
              "      <td>4.397999908323414</td>\n",
              "      <td>38.40930235550977</td>\n",
              "      <td>38.123520925514285</td>\n",
              "      <td>27.72859975460591</td>\n",
              "    </tr>\n",
              "    <tr>\n",
              "      <th>3</th>\n",
              "      <td>min</td>\n",
              "      <td>089-1000000</td>\n",
              "      <td>9</td>\n",
              "      <td>7</td>\n",
              "      <td>9</td>\n",
              "      <td>7</td>\n",
              "      <td>177.6315789</td>\n",
              "      <td>176.1666667</td>\n",
              "      <td>216.9090909</td>\n",
              "    </tr>\n",
              "    <tr>\n",
              "      <th>4</th>\n",
              "      <td>max</td>\n",
              "      <td>089-1000500</td>\n",
              "      <td>33</td>\n",
              "      <td>33</td>\n",
              "      <td>33</td>\n",
              "      <td>34</td>\n",
              "      <td>421.0714286</td>\n",
              "      <td>437.2857143</td>\n",
              "      <td>384.975</td>\n",
              "    </tr>\n",
              "  </tbody>\n",
              "</table>\n",
              "</div>\n",
              "      <button class=\"colab-df-convert\" onclick=\"convertToInteractive('df-49cab08e-43c7-44df-963f-171631ed1293')\"\n",
              "              title=\"Convert this dataframe to an interactive table.\"\n",
              "              style=\"display:none;\">\n",
              "        \n",
              "  <svg xmlns=\"http://www.w3.org/2000/svg\" height=\"24px\"viewBox=\"0 0 24 24\"\n",
              "       width=\"24px\">\n",
              "    <path d=\"M0 0h24v24H0V0z\" fill=\"none\"/>\n",
              "    <path d=\"M18.56 5.44l.94 2.06.94-2.06 2.06-.94-2.06-.94-.94-2.06-.94 2.06-2.06.94zm-11 1L8.5 8.5l.94-2.06 2.06-.94-2.06-.94L8.5 2.5l-.94 2.06-2.06.94zm10 10l.94 2.06.94-2.06 2.06-.94-2.06-.94-.94-2.06-.94 2.06-2.06.94z\"/><path d=\"M17.41 7.96l-1.37-1.37c-.4-.4-.92-.59-1.43-.59-.52 0-1.04.2-1.43.59L10.3 9.45l-7.72 7.72c-.78.78-.78 2.05 0 2.83L4 21.41c.39.39.9.59 1.41.59.51 0 1.02-.2 1.41-.59l7.78-7.78 2.81-2.81c.8-.78.8-2.07 0-2.86zM5.41 20L4 18.59l7.72-7.72 1.47 1.35L5.41 20z\"/>\n",
              "  </svg>\n",
              "      </button>\n",
              "      \n",
              "  <style>\n",
              "    .colab-df-container {\n",
              "      display:flex;\n",
              "      flex-wrap:wrap;\n",
              "      gap: 12px;\n",
              "    }\n",
              "\n",
              "    .colab-df-convert {\n",
              "      background-color: #E8F0FE;\n",
              "      border: none;\n",
              "      border-radius: 50%;\n",
              "      cursor: pointer;\n",
              "      display: none;\n",
              "      fill: #1967D2;\n",
              "      height: 32px;\n",
              "      padding: 0 0 0 0;\n",
              "      width: 32px;\n",
              "    }\n",
              "\n",
              "    .colab-df-convert:hover {\n",
              "      background-color: #E2EBFA;\n",
              "      box-shadow: 0px 1px 2px rgba(60, 64, 67, 0.3), 0px 1px 3px 1px rgba(60, 64, 67, 0.15);\n",
              "      fill: #174EA6;\n",
              "    }\n",
              "\n",
              "    [theme=dark] .colab-df-convert {\n",
              "      background-color: #3B4455;\n",
              "      fill: #D2E3FC;\n",
              "    }\n",
              "\n",
              "    [theme=dark] .colab-df-convert:hover {\n",
              "      background-color: #434B5C;\n",
              "      box-shadow: 0px 1px 3px 1px rgba(0, 0, 0, 0.15);\n",
              "      filter: drop-shadow(0px 1px 2px rgba(0, 0, 0, 0.3));\n",
              "      fill: #FFFFFF;\n",
              "    }\n",
              "  </style>\n",
              "\n",
              "      <script>\n",
              "        const buttonEl =\n",
              "          document.querySelector('#df-49cab08e-43c7-44df-963f-171631ed1293 button.colab-df-convert');\n",
              "        buttonEl.style.display =\n",
              "          google.colab.kernel.accessAllowed ? 'block' : 'none';\n",
              "\n",
              "        async function convertToInteractive(key) {\n",
              "          const element = document.querySelector('#df-49cab08e-43c7-44df-963f-171631ed1293');\n",
              "          const dataTable =\n",
              "            await google.colab.kernel.invokeFunction('convertToInteractive',\n",
              "                                                     [key], {});\n",
              "          if (!dataTable) return;\n",
              "\n",
              "          const docLinkHtml = 'Like what you see? Visit the ' +\n",
              "            '<a target=\"_blank\" href=https://colab.research.google.com/notebooks/data_table.ipynb>data table notebook</a>'\n",
              "            + ' to learn more about interactive tables.';\n",
              "          element.innerHTML = '';\n",
              "          dataTable['output_type'] = 'display_data';\n",
              "          await google.colab.output.renderOutput(dataTable, element);\n",
              "          const docLink = document.createElement('div');\n",
              "          docLink.innerHTML = docLinkHtml;\n",
              "          element.appendChild(docLink);\n",
              "        }\n",
              "      </script>\n",
              "    </div>\n",
              "  </div>\n",
              "  "
            ]
          },
          "metadata": {},
          "execution_count": 13
        }
      ]
    },
    {
      "cell_type": "code",
      "metadata": {
        "id": "XkmLhAizTUpw",
        "colab": {
          "base_uri": "https://localhost:8080/"
        },
        "outputId": "301b22e9-2b3a-4b0c-a8d8-bbf11d110baa"
      },
      "source": [
        "data.printSchema()"
      ],
      "execution_count": 14,
      "outputs": [
        {
          "output_type": "stream",
          "name": "stdout",
          "text": [
            "root\n",
            " |-- uniquePN: string (nullable = true)\n",
            " |-- no_CallIn_Unique: integer (nullable = true)\n",
            " |-- no_CallOut_Unique: integer (nullable = true)\n",
            " |-- no_CallIn: integer (nullable = true)\n",
            " |-- no_CallOut: integer (nullable = true)\n",
            " |-- avg_CallIn_Length: double (nullable = true)\n",
            " |-- avg_CallOut_Length: double (nullable = true)\n",
            " |-- avg_Call_Length: double (nullable = true)\n",
            "\n"
          ]
        }
      ]
    },
    {
      "cell_type": "code",
      "metadata": {
        "id": "NK2fE67uTUp1",
        "colab": {
          "base_uri": "https://localhost:8080/",
          "height": 424
        },
        "outputId": "fa0456fc-178f-4e85-f411-6f0c9810d84f"
      },
      "source": [
        "data.toPandas()"
      ],
      "execution_count": 15,
      "outputs": [
        {
          "output_type": "execute_result",
          "data": {
            "text/plain": [
              "        uniquePN  no_CallIn_Unique  no_CallOut_Unique  no_CallIn  no_CallOut  \\\n",
              "0    089-1000000                13                 25         15          26   \n",
              "1    089-1000001                12                 19         12          20   \n",
              "2    089-1000002                17                 31         18          31   \n",
              "3    089-1000003                16                 14         16          14   \n",
              "4    089-1000004                22                 16         24          16   \n",
              "..           ...               ...                ...        ...         ...   \n",
              "496  089-1000496                20                 23         20          23   \n",
              "497  089-1000497                29                 18         29          18   \n",
              "498  089-1000498                15                 18         15          19   \n",
              "499  089-1000499                15                 22         15          22   \n",
              "500  089-1000500                18                 15         19          16   \n",
              "\n",
              "     avg_CallIn_Length  avg_CallOut_Length  avg_Call_Length  \n",
              "0           304.466667          241.692308       264.658537  \n",
              "1           271.083333          314.500000       298.218750  \n",
              "2           306.055556          263.032258       278.836735  \n",
              "3           300.250000          311.142857       305.333333  \n",
              "4           308.750000          306.187500       307.725000  \n",
              "..                 ...                 ...              ...  \n",
              "496         254.200000          258.217391       256.348837  \n",
              "497         283.275862          264.277778       276.000000  \n",
              "498         346.733333          303.421053       322.529412  \n",
              "499         187.400000          321.772727       267.297297  \n",
              "500         322.736842          280.812500       303.571429  \n",
              "\n",
              "[501 rows x 8 columns]"
            ],
            "text/html": [
              "\n",
              "  <div id=\"df-e42a83a5-d95c-41bd-b4cc-06bd70a8587d\">\n",
              "    <div class=\"colab-df-container\">\n",
              "      <div>\n",
              "<style scoped>\n",
              "    .dataframe tbody tr th:only-of-type {\n",
              "        vertical-align: middle;\n",
              "    }\n",
              "\n",
              "    .dataframe tbody tr th {\n",
              "        vertical-align: top;\n",
              "    }\n",
              "\n",
              "    .dataframe thead th {\n",
              "        text-align: right;\n",
              "    }\n",
              "</style>\n",
              "<table border=\"1\" class=\"dataframe\">\n",
              "  <thead>\n",
              "    <tr style=\"text-align: right;\">\n",
              "      <th></th>\n",
              "      <th>uniquePN</th>\n",
              "      <th>no_CallIn_Unique</th>\n",
              "      <th>no_CallOut_Unique</th>\n",
              "      <th>no_CallIn</th>\n",
              "      <th>no_CallOut</th>\n",
              "      <th>avg_CallIn_Length</th>\n",
              "      <th>avg_CallOut_Length</th>\n",
              "      <th>avg_Call_Length</th>\n",
              "    </tr>\n",
              "  </thead>\n",
              "  <tbody>\n",
              "    <tr>\n",
              "      <th>0</th>\n",
              "      <td>089-1000000</td>\n",
              "      <td>13</td>\n",
              "      <td>25</td>\n",
              "      <td>15</td>\n",
              "      <td>26</td>\n",
              "      <td>304.466667</td>\n",
              "      <td>241.692308</td>\n",
              "      <td>264.658537</td>\n",
              "    </tr>\n",
              "    <tr>\n",
              "      <th>1</th>\n",
              "      <td>089-1000001</td>\n",
              "      <td>12</td>\n",
              "      <td>19</td>\n",
              "      <td>12</td>\n",
              "      <td>20</td>\n",
              "      <td>271.083333</td>\n",
              "      <td>314.500000</td>\n",
              "      <td>298.218750</td>\n",
              "    </tr>\n",
              "    <tr>\n",
              "      <th>2</th>\n",
              "      <td>089-1000002</td>\n",
              "      <td>17</td>\n",
              "      <td>31</td>\n",
              "      <td>18</td>\n",
              "      <td>31</td>\n",
              "      <td>306.055556</td>\n",
              "      <td>263.032258</td>\n",
              "      <td>278.836735</td>\n",
              "    </tr>\n",
              "    <tr>\n",
              "      <th>3</th>\n",
              "      <td>089-1000003</td>\n",
              "      <td>16</td>\n",
              "      <td>14</td>\n",
              "      <td>16</td>\n",
              "      <td>14</td>\n",
              "      <td>300.250000</td>\n",
              "      <td>311.142857</td>\n",
              "      <td>305.333333</td>\n",
              "    </tr>\n",
              "    <tr>\n",
              "      <th>4</th>\n",
              "      <td>089-1000004</td>\n",
              "      <td>22</td>\n",
              "      <td>16</td>\n",
              "      <td>24</td>\n",
              "      <td>16</td>\n",
              "      <td>308.750000</td>\n",
              "      <td>306.187500</td>\n",
              "      <td>307.725000</td>\n",
              "    </tr>\n",
              "    <tr>\n",
              "      <th>...</th>\n",
              "      <td>...</td>\n",
              "      <td>...</td>\n",
              "      <td>...</td>\n",
              "      <td>...</td>\n",
              "      <td>...</td>\n",
              "      <td>...</td>\n",
              "      <td>...</td>\n",
              "      <td>...</td>\n",
              "    </tr>\n",
              "    <tr>\n",
              "      <th>496</th>\n",
              "      <td>089-1000496</td>\n",
              "      <td>20</td>\n",
              "      <td>23</td>\n",
              "      <td>20</td>\n",
              "      <td>23</td>\n",
              "      <td>254.200000</td>\n",
              "      <td>258.217391</td>\n",
              "      <td>256.348837</td>\n",
              "    </tr>\n",
              "    <tr>\n",
              "      <th>497</th>\n",
              "      <td>089-1000497</td>\n",
              "      <td>29</td>\n",
              "      <td>18</td>\n",
              "      <td>29</td>\n",
              "      <td>18</td>\n",
              "      <td>283.275862</td>\n",
              "      <td>264.277778</td>\n",
              "      <td>276.000000</td>\n",
              "    </tr>\n",
              "    <tr>\n",
              "      <th>498</th>\n",
              "      <td>089-1000498</td>\n",
              "      <td>15</td>\n",
              "      <td>18</td>\n",
              "      <td>15</td>\n",
              "      <td>19</td>\n",
              "      <td>346.733333</td>\n",
              "      <td>303.421053</td>\n",
              "      <td>322.529412</td>\n",
              "    </tr>\n",
              "    <tr>\n",
              "      <th>499</th>\n",
              "      <td>089-1000499</td>\n",
              "      <td>15</td>\n",
              "      <td>22</td>\n",
              "      <td>15</td>\n",
              "      <td>22</td>\n",
              "      <td>187.400000</td>\n",
              "      <td>321.772727</td>\n",
              "      <td>267.297297</td>\n",
              "    </tr>\n",
              "    <tr>\n",
              "      <th>500</th>\n",
              "      <td>089-1000500</td>\n",
              "      <td>18</td>\n",
              "      <td>15</td>\n",
              "      <td>19</td>\n",
              "      <td>16</td>\n",
              "      <td>322.736842</td>\n",
              "      <td>280.812500</td>\n",
              "      <td>303.571429</td>\n",
              "    </tr>\n",
              "  </tbody>\n",
              "</table>\n",
              "<p>501 rows × 8 columns</p>\n",
              "</div>\n",
              "      <button class=\"colab-df-convert\" onclick=\"convertToInteractive('df-e42a83a5-d95c-41bd-b4cc-06bd70a8587d')\"\n",
              "              title=\"Convert this dataframe to an interactive table.\"\n",
              "              style=\"display:none;\">\n",
              "        \n",
              "  <svg xmlns=\"http://www.w3.org/2000/svg\" height=\"24px\"viewBox=\"0 0 24 24\"\n",
              "       width=\"24px\">\n",
              "    <path d=\"M0 0h24v24H0V0z\" fill=\"none\"/>\n",
              "    <path d=\"M18.56 5.44l.94 2.06.94-2.06 2.06-.94-2.06-.94-.94-2.06-.94 2.06-2.06.94zm-11 1L8.5 8.5l.94-2.06 2.06-.94-2.06-.94L8.5 2.5l-.94 2.06-2.06.94zm10 10l.94 2.06.94-2.06 2.06-.94-2.06-.94-.94-2.06-.94 2.06-2.06.94z\"/><path d=\"M17.41 7.96l-1.37-1.37c-.4-.4-.92-.59-1.43-.59-.52 0-1.04.2-1.43.59L10.3 9.45l-7.72 7.72c-.78.78-.78 2.05 0 2.83L4 21.41c.39.39.9.59 1.41.59.51 0 1.02-.2 1.41-.59l7.78-7.78 2.81-2.81c.8-.78.8-2.07 0-2.86zM5.41 20L4 18.59l7.72-7.72 1.47 1.35L5.41 20z\"/>\n",
              "  </svg>\n",
              "      </button>\n",
              "      \n",
              "  <style>\n",
              "    .colab-df-container {\n",
              "      display:flex;\n",
              "      flex-wrap:wrap;\n",
              "      gap: 12px;\n",
              "    }\n",
              "\n",
              "    .colab-df-convert {\n",
              "      background-color: #E8F0FE;\n",
              "      border: none;\n",
              "      border-radius: 50%;\n",
              "      cursor: pointer;\n",
              "      display: none;\n",
              "      fill: #1967D2;\n",
              "      height: 32px;\n",
              "      padding: 0 0 0 0;\n",
              "      width: 32px;\n",
              "    }\n",
              "\n",
              "    .colab-df-convert:hover {\n",
              "      background-color: #E2EBFA;\n",
              "      box-shadow: 0px 1px 2px rgba(60, 64, 67, 0.3), 0px 1px 3px 1px rgba(60, 64, 67, 0.15);\n",
              "      fill: #174EA6;\n",
              "    }\n",
              "\n",
              "    [theme=dark] .colab-df-convert {\n",
              "      background-color: #3B4455;\n",
              "      fill: #D2E3FC;\n",
              "    }\n",
              "\n",
              "    [theme=dark] .colab-df-convert:hover {\n",
              "      background-color: #434B5C;\n",
              "      box-shadow: 0px 1px 3px 1px rgba(0, 0, 0, 0.15);\n",
              "      filter: drop-shadow(0px 1px 2px rgba(0, 0, 0, 0.3));\n",
              "      fill: #FFFFFF;\n",
              "    }\n",
              "  </style>\n",
              "\n",
              "      <script>\n",
              "        const buttonEl =\n",
              "          document.querySelector('#df-e42a83a5-d95c-41bd-b4cc-06bd70a8587d button.colab-df-convert');\n",
              "        buttonEl.style.display =\n",
              "          google.colab.kernel.accessAllowed ? 'block' : 'none';\n",
              "\n",
              "        async function convertToInteractive(key) {\n",
              "          const element = document.querySelector('#df-e42a83a5-d95c-41bd-b4cc-06bd70a8587d');\n",
              "          const dataTable =\n",
              "            await google.colab.kernel.invokeFunction('convertToInteractive',\n",
              "                                                     [key], {});\n",
              "          if (!dataTable) return;\n",
              "\n",
              "          const docLinkHtml = 'Like what you see? Visit the ' +\n",
              "            '<a target=\"_blank\" href=https://colab.research.google.com/notebooks/data_table.ipynb>data table notebook</a>'\n",
              "            + ' to learn more about interactive tables.';\n",
              "          element.innerHTML = '';\n",
              "          dataTable['output_type'] = 'display_data';\n",
              "          await google.colab.output.renderOutput(dataTable, element);\n",
              "          const docLink = document.createElement('div');\n",
              "          docLink.innerHTML = docLinkHtml;\n",
              "          element.appendChild(docLink);\n",
              "        }\n",
              "      </script>\n",
              "    </div>\n",
              "  </div>\n",
              "  "
            ]
          },
          "metadata": {},
          "execution_count": 15
        }
      ]
    },
    {
      "cell_type": "code",
      "metadata": {
        "id": "a1yQqwzsTUp4"
      },
      "source": [
        "#5 - Print sample 5 rows of all variables\n",
        "column_name = [\"no_CallIn_Unique\",\"no_CallOut_Unique\",\"no_CallIn\",\"no_CallOut\"\n",
        "               ,\"avg_CallIn_Length\",\"avg_CallOut_Length\",\"avg_Call_Length\"]"
      ],
      "execution_count": 16,
      "outputs": []
    },
    {
      "cell_type": "code",
      "metadata": {
        "id": "3qYf7GvmTUp7",
        "colab": {
          "base_uri": "https://localhost:8080/"
        },
        "outputId": "a5b23f3b-19c5-4333-a4cf-d055a5de3043"
      },
      "source": [
        "#6 - Create Vector\n",
        "assem =  VectorAssembler(inputCols=column_name ,outputCol=\"temp_features\")\n",
        "\n",
        "print (assem)"
      ],
      "execution_count": 17,
      "outputs": [
        {
          "output_type": "stream",
          "name": "stdout",
          "text": [
            "VectorAssembler_b1e04e724e32\n"
          ]
        }
      ]
    },
    {
      "cell_type": "code",
      "metadata": {
        "id": "3z7h9jIQTUp-",
        "colab": {
          "base_uri": "https://localhost:8080/"
        },
        "outputId": "f1467106-2861-4c06-d1c6-1373429b948c"
      },
      "source": [
        "#7 - Normalize\n",
        "scaler = MaxAbsScaler(inputCol=\"temp_features\", outputCol=\"features\")\n",
        "\n",
        "print (scaler)"
      ],
      "execution_count": 18,
      "outputs": [
        {
          "output_type": "stream",
          "name": "stdout",
          "text": [
            "MaxAbsScaler_e7f375a9f71d\n"
          ]
        }
      ]
    },
    {
      "cell_type": "code",
      "metadata": {
        "id": "pgJ13-RpTUqE"
      },
      "source": [
        "#8 - Create model\n",
        "kmeans = KMeans().setK(3).setSeed(50)"
      ],
      "execution_count": 19,
      "outputs": []
    },
    {
      "cell_type": "code",
      "metadata": {
        "id": "zVyoen5yTUqH",
        "colab": {
          "base_uri": "https://localhost:8080/"
        },
        "outputId": "1d8b1642-2ce5-4f81-f284-2d9b852ce49b"
      },
      "source": [
        "#9 - Set ML pipeline\n",
        "all_process_list = [assem,scaler,kmeans]\n",
        "for process in all_process_list: print(process)\n",
        "\n",
        "pipeline = Pipeline(stages=all_process_list)\n",
        "print (pipeline)"
      ],
      "execution_count": 20,
      "outputs": [
        {
          "output_type": "stream",
          "name": "stdout",
          "text": [
            "VectorAssembler_b1e04e724e32\n",
            "MaxAbsScaler_e7f375a9f71d\n",
            "KMeans_cbe49547b19a\n",
            "Pipeline_6b6bb1a35d19\n"
          ]
        }
      ]
    },
    {
      "cell_type": "code",
      "metadata": {
        "id": "M8R-uIAATUqM"
      },
      "source": [
        "#10 - Train model\n",
        "model = pipeline.fit(data)"
      ],
      "execution_count": 21,
      "outputs": []
    },
    {
      "cell_type": "code",
      "metadata": {
        "id": "od2hLPdBTUqQ",
        "colab": {
          "base_uri": "https://localhost:8080/"
        },
        "outputId": "38f32725-1292-4ff3-8f40-8cbcfcd0a3b4"
      },
      "source": [
        "#11 - Make predictions\n",
        "predictions = model.transform(data).select(\"features\",\"prediction\")\n",
        "predictions.cache()"
      ],
      "execution_count": 22,
      "outputs": [
        {
          "output_type": "execute_result",
          "data": {
            "text/plain": [
              "DataFrame[features: vector, prediction: int]"
            ]
          },
          "metadata": {},
          "execution_count": 22
        }
      ]
    },
    {
      "cell_type": "code",
      "metadata": {
        "id": "ZDWAaWULTUqU",
        "colab": {
          "base_uri": "https://localhost:8080/",
          "height": 424
        },
        "outputId": "92036069-c4dc-427a-aa5f-6b9b6f9c49b6"
      },
      "source": [
        "# Print sample result\n",
        "predictions.sample(False, 0.3, 1234).toPandas()"
      ],
      "execution_count": 23,
      "outputs": [
        {
          "output_type": "execute_result",
          "data": {
            "text/plain": [
              "                                              features  prediction\n",
              "0    [0.5151515151515151, 0.9393939393939394, 0.545...           2\n",
              "1    [0.48484848484848486, 0.42424242424242425, 0.4...           0\n",
              "2    [0.48484848484848486, 0.6060606060606061, 0.48...           0\n",
              "3    [0.4545454545454546, 0.6060606060606061, 0.454...           0\n",
              "4    [0.7272727272727273, 0.5151515151515151, 0.727...           1\n",
              "..                                                 ...         ...\n",
              "143  [0.3939393939393939, 0.48484848484848486, 0.39...           0\n",
              "144  [0.5151515151515151, 0.5757575757575758, 0.515...           0\n",
              "145  [0.4545454545454546, 0.5454545454545454, 0.454...           0\n",
              "146  [0.4545454545454546, 0.6666666666666667, 0.454...           0\n",
              "147  [0.5454545454545454, 0.4545454545454546, 0.575...           0\n",
              "\n",
              "[148 rows x 2 columns]"
            ],
            "text/html": [
              "\n",
              "  <div id=\"df-15e62620-7105-4a25-b620-05994fde2027\">\n",
              "    <div class=\"colab-df-container\">\n",
              "      <div>\n",
              "<style scoped>\n",
              "    .dataframe tbody tr th:only-of-type {\n",
              "        vertical-align: middle;\n",
              "    }\n",
              "\n",
              "    .dataframe tbody tr th {\n",
              "        vertical-align: top;\n",
              "    }\n",
              "\n",
              "    .dataframe thead th {\n",
              "        text-align: right;\n",
              "    }\n",
              "</style>\n",
              "<table border=\"1\" class=\"dataframe\">\n",
              "  <thead>\n",
              "    <tr style=\"text-align: right;\">\n",
              "      <th></th>\n",
              "      <th>features</th>\n",
              "      <th>prediction</th>\n",
              "    </tr>\n",
              "  </thead>\n",
              "  <tbody>\n",
              "    <tr>\n",
              "      <th>0</th>\n",
              "      <td>[0.5151515151515151, 0.9393939393939394, 0.545...</td>\n",
              "      <td>2</td>\n",
              "    </tr>\n",
              "    <tr>\n",
              "      <th>1</th>\n",
              "      <td>[0.48484848484848486, 0.42424242424242425, 0.4...</td>\n",
              "      <td>0</td>\n",
              "    </tr>\n",
              "    <tr>\n",
              "      <th>2</th>\n",
              "      <td>[0.48484848484848486, 0.6060606060606061, 0.48...</td>\n",
              "      <td>0</td>\n",
              "    </tr>\n",
              "    <tr>\n",
              "      <th>3</th>\n",
              "      <td>[0.4545454545454546, 0.6060606060606061, 0.454...</td>\n",
              "      <td>0</td>\n",
              "    </tr>\n",
              "    <tr>\n",
              "      <th>4</th>\n",
              "      <td>[0.7272727272727273, 0.5151515151515151, 0.727...</td>\n",
              "      <td>1</td>\n",
              "    </tr>\n",
              "    <tr>\n",
              "      <th>...</th>\n",
              "      <td>...</td>\n",
              "      <td>...</td>\n",
              "    </tr>\n",
              "    <tr>\n",
              "      <th>143</th>\n",
              "      <td>[0.3939393939393939, 0.48484848484848486, 0.39...</td>\n",
              "      <td>0</td>\n",
              "    </tr>\n",
              "    <tr>\n",
              "      <th>144</th>\n",
              "      <td>[0.5151515151515151, 0.5757575757575758, 0.515...</td>\n",
              "      <td>0</td>\n",
              "    </tr>\n",
              "    <tr>\n",
              "      <th>145</th>\n",
              "      <td>[0.4545454545454546, 0.5454545454545454, 0.454...</td>\n",
              "      <td>0</td>\n",
              "    </tr>\n",
              "    <tr>\n",
              "      <th>146</th>\n",
              "      <td>[0.4545454545454546, 0.6666666666666667, 0.454...</td>\n",
              "      <td>0</td>\n",
              "    </tr>\n",
              "    <tr>\n",
              "      <th>147</th>\n",
              "      <td>[0.5454545454545454, 0.4545454545454546, 0.575...</td>\n",
              "      <td>0</td>\n",
              "    </tr>\n",
              "  </tbody>\n",
              "</table>\n",
              "<p>148 rows × 2 columns</p>\n",
              "</div>\n",
              "      <button class=\"colab-df-convert\" onclick=\"convertToInteractive('df-15e62620-7105-4a25-b620-05994fde2027')\"\n",
              "              title=\"Convert this dataframe to an interactive table.\"\n",
              "              style=\"display:none;\">\n",
              "        \n",
              "  <svg xmlns=\"http://www.w3.org/2000/svg\" height=\"24px\"viewBox=\"0 0 24 24\"\n",
              "       width=\"24px\">\n",
              "    <path d=\"M0 0h24v24H0V0z\" fill=\"none\"/>\n",
              "    <path d=\"M18.56 5.44l.94 2.06.94-2.06 2.06-.94-2.06-.94-.94-2.06-.94 2.06-2.06.94zm-11 1L8.5 8.5l.94-2.06 2.06-.94-2.06-.94L8.5 2.5l-.94 2.06-2.06.94zm10 10l.94 2.06.94-2.06 2.06-.94-2.06-.94-.94-2.06-.94 2.06-2.06.94z\"/><path d=\"M17.41 7.96l-1.37-1.37c-.4-.4-.92-.59-1.43-.59-.52 0-1.04.2-1.43.59L10.3 9.45l-7.72 7.72c-.78.78-.78 2.05 0 2.83L4 21.41c.39.39.9.59 1.41.59.51 0 1.02-.2 1.41-.59l7.78-7.78 2.81-2.81c.8-.78.8-2.07 0-2.86zM5.41 20L4 18.59l7.72-7.72 1.47 1.35L5.41 20z\"/>\n",
              "  </svg>\n",
              "      </button>\n",
              "      \n",
              "  <style>\n",
              "    .colab-df-container {\n",
              "      display:flex;\n",
              "      flex-wrap:wrap;\n",
              "      gap: 12px;\n",
              "    }\n",
              "\n",
              "    .colab-df-convert {\n",
              "      background-color: #E8F0FE;\n",
              "      border: none;\n",
              "      border-radius: 50%;\n",
              "      cursor: pointer;\n",
              "      display: none;\n",
              "      fill: #1967D2;\n",
              "      height: 32px;\n",
              "      padding: 0 0 0 0;\n",
              "      width: 32px;\n",
              "    }\n",
              "\n",
              "    .colab-df-convert:hover {\n",
              "      background-color: #E2EBFA;\n",
              "      box-shadow: 0px 1px 2px rgba(60, 64, 67, 0.3), 0px 1px 3px 1px rgba(60, 64, 67, 0.15);\n",
              "      fill: #174EA6;\n",
              "    }\n",
              "\n",
              "    [theme=dark] .colab-df-convert {\n",
              "      background-color: #3B4455;\n",
              "      fill: #D2E3FC;\n",
              "    }\n",
              "\n",
              "    [theme=dark] .colab-df-convert:hover {\n",
              "      background-color: #434B5C;\n",
              "      box-shadow: 0px 1px 3px 1px rgba(0, 0, 0, 0.15);\n",
              "      filter: drop-shadow(0px 1px 2px rgba(0, 0, 0, 0.3));\n",
              "      fill: #FFFFFF;\n",
              "    }\n",
              "  </style>\n",
              "\n",
              "      <script>\n",
              "        const buttonEl =\n",
              "          document.querySelector('#df-15e62620-7105-4a25-b620-05994fde2027 button.colab-df-convert');\n",
              "        buttonEl.style.display =\n",
              "          google.colab.kernel.accessAllowed ? 'block' : 'none';\n",
              "\n",
              "        async function convertToInteractive(key) {\n",
              "          const element = document.querySelector('#df-15e62620-7105-4a25-b620-05994fde2027');\n",
              "          const dataTable =\n",
              "            await google.colab.kernel.invokeFunction('convertToInteractive',\n",
              "                                                     [key], {});\n",
              "          if (!dataTable) return;\n",
              "\n",
              "          const docLinkHtml = 'Like what you see? Visit the ' +\n",
              "            '<a target=\"_blank\" href=https://colab.research.google.com/notebooks/data_table.ipynb>data table notebook</a>'\n",
              "            + ' to learn more about interactive tables.';\n",
              "          element.innerHTML = '';\n",
              "          dataTable['output_type'] = 'display_data';\n",
              "          await google.colab.output.renderOutput(dataTable, element);\n",
              "          const docLink = document.createElement('div');\n",
              "          docLink.innerHTML = docLinkHtml;\n",
              "          element.appendChild(docLink);\n",
              "        }\n",
              "      </script>\n",
              "    </div>\n",
              "  </div>\n",
              "  "
            ]
          },
          "metadata": {},
          "execution_count": 23
        }
      ]
    },
    {
      "cell_type": "code",
      "metadata": {
        "id": "5Vur_2MSTUqe",
        "colab": {
          "base_uri": "https://localhost:8080/"
        },
        "outputId": "f947fade-e589-4242-a547-1b469be3961d"
      },
      "source": [
        "#12 Shows Cluster's Center\n",
        "centers = model.stages[2].clusterCenters()\n",
        "\n",
        "scaler_model = model.stages[-2]\n",
        "max = scaler_model.maxAbs\n",
        "print(\"Cluster Centers: \")\n",
        "for center in centers:\n",
        "    print(center*max)"
      ],
      "execution_count": 24,
      "outputs": [
        {
          "output_type": "stream",
          "name": "stdout",
          "text": [
            "Cluster Centers: \n",
            "[ 15.76162791  17.16860465  16.04651163  17.51162791 301.89721689\n",
            " 308.3416379  305.32854295]\n",
            "[ 23.38888889  18.12121212  23.87373737  18.52525253 307.89342457\n",
            " 308.3554855  308.00701047]\n",
            "[ 18.76335878  24.8778626   19.18320611  25.34351145 306.71767746\n",
            " 300.99831548 303.42067992]\n"
          ]
        }
      ]
    },
    {
      "cell_type": "code",
      "metadata": {
        "id": "iIC2x-BoidM0"
      },
      "source": [
        ""
      ],
      "execution_count": 24,
      "outputs": []
    }
  ]
}