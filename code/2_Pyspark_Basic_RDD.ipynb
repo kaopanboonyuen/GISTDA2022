{
 "cells": [
  {
   "cell_type": "markdown",
   "metadata": {
    "id": "4zDysbXHvEGp"
   },
   "source": [
    "# Spark Preparation\n",
    "We check if we are in Google Colab.  If this is the case, install all necessary packages.\n",
    "\n",
    "To run spark in Colab, we need to first install all the dependencies in Colab environment i.e. Apache Spark 3.2.1 with hadoop 3.2, Java 8 and Findspark to locate the spark in the system. The tools installation can be carried out inside the Jupyter Notebook of the Colab.\n",
    "Learn more from [A Must-Read Guide on How to Work with PySpark on Google Colab for Data Scientists!](https://www.analyticsvidhya.com/blog/2020/11/a-must-read-guide-on-how-to-work-with-pyspark-on-google-colab-for-data-scientists/)"
   ]
  },
  {
   "cell_type": "code",
   "execution_count": 1,
   "metadata": {
    "id": "JK6PZEMjROK9"
   },
   "outputs": [],
   "source": [
    "try:\n",
    "  import google.colab\n",
    "  IN_COLAB = True\n",
    "except:\n",
    "  IN_COLAB = False"
   ]
  },
  {
   "cell_type": "code",
   "execution_count": 2,
   "metadata": {
    "id": "Gr_NGZ5AvIQy"
   },
   "outputs": [],
   "source": [
    "if IN_COLAB:\n",
    "    !apt-get install openjdk-8-jdk-headless -qq > /dev/null\n",
    "    !wget -q https://dlcdn.apache.org/spark/spark-3.2.1/spark-3.2.1-bin-hadoop3.2.tgz\n",
    "    !tar xf spark-3.2.1-bin-hadoop3.2.tgz\n",
    "    !mv spark-3.2.1-bin-hadoop3.2 spark\n",
    "    !pip install -q findspark"
   ]
  },
  {
   "cell_type": "code",
   "execution_count": 3,
   "metadata": {
    "id": "9dby3bREvIaU"
   },
   "outputs": [],
   "source": [
    "if IN_COLAB:\n",
    "  import os\n",
    "  os.environ[\"JAVA_HOME\"] = \"/usr/lib/jvm/java-8-openjdk-amd64\"\n",
    "  os.environ[\"SPARK_HOME\"] = \"/content/spark\""
   ]
  },
  {
   "cell_type": "code",
   "execution_count": 5,
   "metadata": {
    "id": "rJTEDJzsvZRJ"
   },
   "outputs": [],
   "source": [
    "import findspark\n",
    "findspark.init()"
   ]
  },
  {
   "cell_type": "markdown",
   "metadata": {
    "id": "_92TFSplRMHq"
   },
   "source": [
    "# Pyspark_Basic_RDD"
   ]
  },
  {
   "cell_type": "code",
   "execution_count": 7,
   "metadata": {
    "id": "jNHCZPHYRMHs"
   },
   "outputs": [],
   "source": [
    "#1 - import module\n",
    "from pyspark import SparkContext"
   ]
  },
  {
   "cell_type": "code",
   "execution_count": 8,
   "metadata": {
    "colab": {
     "base_uri": "https://localhost:8080/",
     "height": 198
    },
    "id": "WFGEa6z_RMHy",
    "outputId": "83320391-6880-407c-dc69-13f35bfbf884"
   },
   "outputs": [
    {
     "data": {
      "text/html": [
       "\n",
       "        <div>\n",
       "            <p><b>SparkContext</b></p>\n",
       "\n",
       "            <p><a href=\"http://a00deab50e6f:4040\">Spark UI</a></p>\n",
       "\n",
       "            <dl>\n",
       "              <dt>Version</dt>\n",
       "                <dd><code>v3.2.1</code></dd>\n",
       "              <dt>Master</dt>\n",
       "                <dd><code>local[*]</code></dd>\n",
       "              <dt>AppName</dt>\n",
       "                <dd><code>pyspark-shell</code></dd>\n",
       "            </dl>\n",
       "        </div>\n",
       "        "
      ],
      "text/plain": [
       "<SparkContext master=local[*] appName=pyspark-shell>"
      ]
     },
     "execution_count": 8,
     "metadata": {},
     "output_type": "execute_result"
    }
   ],
   "source": [
    "#2 - Create SparkContext\n",
    "sc = sc = SparkContext.getOrCreate()\n",
    "sc"
   ]
  },
  {
   "cell_type": "code",
   "execution_count": 9,
   "metadata": {
    "colab": {
     "base_uri": "https://localhost:8080/"
    },
    "id": "mWzSaEXS8WSW",
    "outputId": "c8a4fd69-ff1e-4a41-9110-1e8413252262"
   },
   "outputs": [
    {
     "data": {
      "text/plain": [
       "2"
      ]
     },
     "execution_count": 9,
     "metadata": {},
     "output_type": "execute_result"
    }
   ],
   "source": [
    "import multiprocessing\n",
    "\n",
    "multiprocessing.cpu_count()"
   ]
  },
  {
   "cell_type": "code",
   "execution_count": 10,
   "metadata": {
    "id": "cA_ajGnk9RED"
   },
   "outputs": [],
   "source": [
    "#rdd.getNumPartitions"
   ]
  },
  {
   "cell_type": "code",
   "execution_count": 11,
   "metadata": {
    "id": "VzLxhL6bRMIg"
   },
   "outputs": [],
   "source": [
    "#3 - Print top 5 rows\n",
    "def printRDD(data,num):\n",
    "    for line in data.take(num):\n",
    "        print(line)"
   ]
  },
  {
   "cell_type": "code",
   "execution_count": 14,
   "metadata": {
    "colab": {
     "base_uri": "https://localhost:8080/"
    },
    "id": "unlMjoNDxx2L",
    "outputId": "3a525279-0d08-4025-a347-4877efc078df"
   },
   "outputs": [
    {
     "name": "stdout",
     "output_type": "stream",
     "text": [
      "--2022-03-20 14:42:10--  https://github.com/kaopanboonyuen/GISTDA2022/raw/main/dataset/iris.csv\n",
      "Resolving github.com (github.com)... 140.82.121.4\n",
      "Connecting to github.com (github.com)|140.82.121.4|:443... connected.\n",
      "HTTP request sent, awaiting response... 302 Found\n",
      "Location: https://raw.githubusercontent.com/kaopanboonyuen/GISTDA2022/main/dataset/iris.csv [following]\n",
      "--2022-03-20 14:42:10--  https://raw.githubusercontent.com/kaopanboonyuen/GISTDA2022/main/dataset/iris.csv\n",
      "Resolving raw.githubusercontent.com (raw.githubusercontent.com)... 185.199.108.133, 185.199.109.133, 185.199.110.133, ...\n",
      "Connecting to raw.githubusercontent.com (raw.githubusercontent.com)|185.199.108.133|:443... connected.\n",
      "HTTP request sent, awaiting response... 200 OK\n",
      "Length: 4550 (4.4K) [text/plain]\n",
      "Saving to: ‘iris.csv.1’\n",
      "\n",
      "\r",
      "iris.csv.1            0%[                    ]       0  --.-KB/s               \r",
      "iris.csv.1          100%[===================>]   4.44K  --.-KB/s    in 0s      \n",
      "\n",
      "2022-03-20 14:42:10 (52.2 MB/s) - ‘iris.csv.1’ saved [4550/4550]\n",
      "\n"
     ]
    }
   ],
   "source": [
    "!wget https://github.com/kaopanboonyuen/GISTDA2022/raw/main/dataset/iris.csv"
   ]
  },
  {
   "cell_type": "code",
   "execution_count": 15,
   "metadata": {
    "colab": {
     "base_uri": "https://localhost:8080/"
    },
    "id": "vqSOV55WRMIm",
    "outputId": "8e1563a5-ef7b-496f-e9cd-c102b82c7da6"
   },
   "outputs": [
    {
     "name": "stdout",
     "output_type": "stream",
     "text": [
      "5.1,3.5,1.4,0.2,Iris-setosa\n",
      "4.9,3.0,1.4,0.2,Iris-setosa\n",
      "4.7,3.2,1.3,0.2,Iris-setosa\n",
      "4.6,3.1,1.5,0.2,Iris-setosa\n",
      "5.0,3.6,1.4,0.2,Iris-setosa\n"
     ]
    }
   ],
   "source": [
    "#4 - Read file to spark RDD\n",
    "rdd = sc.textFile(\"iris.csv\")\n",
    "rdd.cache()\n",
    "\n",
    "# Attribute Information:\n",
    "# 1. sepal length in cm \n",
    "# 2. sepal width in cm \n",
    "# 3. petal length in cm \n",
    "# 4. petal width in cm \n",
    "# 5. class: \n",
    "# -- Iris Setosa \n",
    "# -- Iris Versicolour \n",
    "# -- Iris Virginica\n",
    "\n",
    "\n",
    "printRDD(rdd,5)"
   ]
  },
  {
   "cell_type": "code",
   "execution_count": 16,
   "metadata": {
    "colab": {
     "base_uri": "https://localhost:8080/"
    },
    "id": "MzrieK0FRMIu",
    "outputId": "ad26d2eb-d009-41c2-d44f-9337efab43bb"
   },
   "outputs": [
    {
     "name": "stdout",
     "output_type": "stream",
     "text": [
      "['5.1', '3.5', '1.4', '0.2', 'Iris-setosa']\n",
      "['4.9', '3.0', '1.4', '0.2', 'Iris-setosa']\n",
      "['4.7', '3.2', '1.3', '0.2', 'Iris-setosa']\n",
      "['4.6', '3.1', '1.5', '0.2', 'Iris-setosa']\n",
      "['5.0', '3.6', '1.4', '0.2', 'Iris-setosa']\n"
     ]
    }
   ],
   "source": [
    "#5 - map\n",
    "mapped_rdd = rdd.map(lambda line : line.split(\",\"))\n",
    "\n",
    "printRDD(mapped_rdd,5)"
   ]
  },
  {
   "cell_type": "code",
   "execution_count": 17,
   "metadata": {
    "colab": {
     "base_uri": "https://localhost:8080/"
    },
    "id": "EqMwUNOyRMI0",
    "outputId": "5941465c-fba0-4925-d691-7122fcfcf60b"
   },
   "outputs": [
    {
     "name": "stdout",
     "output_type": "stream",
     "text": [
      "5.1\n",
      "3.5\n",
      "1.4\n",
      "0.2\n",
      "Iris-setosa\n",
      "4.9\n",
      "3.0\n",
      "1.4\n",
      "0.2\n",
      "Iris-setosa\n",
      "4.7\n",
      "3.2\n",
      "1.3\n",
      "0.2\n",
      "Iris-setosa\n",
      "4.6\n",
      "3.1\n",
      "1.5\n",
      "0.2\n",
      "Iris-setosa\n",
      "5.0\n",
      "3.6\n",
      "1.4\n",
      "0.2\n",
      "Iris-setosa\n"
     ]
    }
   ],
   "source": [
    "#6 - flatMap\n",
    "flatMaped_rdd = rdd.flatMap(lambda line : line.split(\",\"))\n",
    "\n",
    "printRDD(flatMaped_rdd,25)"
   ]
  },
  {
   "cell_type": "code",
   "execution_count": 18,
   "metadata": {
    "colab": {
     "base_uri": "https://localhost:8080/"
    },
    "id": "bICuISWBRMI5",
    "outputId": "45ba104c-d53b-476f-e4a6-d2b1015c8fe2"
   },
   "outputs": [
    {
     "name": "stdout",
     "output_type": "stream",
     "text": [
      "zipedWithUniqueId_rdd count : 150\n",
      "('5.1,3.5,1.4,0.2,Iris-setosa', 0)\n",
      "('4.9,3.0,1.4,0.2,Iris-setosa', 2)\n",
      "('4.7,3.2,1.3,0.2,Iris-setosa', 4)\n",
      "('4.6,3.1,1.5,0.2,Iris-setosa', 6)\n",
      "('5.0,3.6,1.4,0.2,Iris-setosa', 8)\n"
     ]
    }
   ],
   "source": [
    "#7 - create unique id\n",
    "zipedWithUniqueId_rdd = rdd.zipWithUniqueId()\n",
    "\n",
    "print(\"zipedWithUniqueId_rdd count : \" + str(zipedWithUniqueId_rdd.count()))\n",
    "printRDD(zipedWithUniqueId_rdd,5)"
   ]
  },
  {
   "cell_type": "code",
   "execution_count": 19,
   "metadata": {
    "colab": {
     "base_uri": "https://localhost:8080/"
    },
    "id": "TVMCXtehRMI_",
    "outputId": "a8b9c18d-4c55-431d-f132-af67b0cbe1be"
   },
   "outputs": [
    {
     "name": "stdout",
     "output_type": "stream",
     "text": [
      "rdd count : 150\n",
      "sampled_rdd count : 61\n",
      "('4.9,3.0,1.4,0.2,Iris-setosa', 2)\n",
      "('4.7,3.2,1.3,0.2,Iris-setosa', 4)\n",
      "('4.6,3.1,1.5,0.2,Iris-setosa', 6)\n",
      "('5.0,3.6,1.4,0.2,Iris-setosa', 8)\n",
      "('5.4,3.9,1.7,0.4,Iris-setosa', 10)\n"
     ]
    }
   ],
   "source": [
    "#8 - sample data\n",
    "sampled_rdd = zipedWithUniqueId_rdd.sample(withReplacement=False, fraction=0.5, seed=50)\n",
    "\n",
    "print(\"rdd count : \" + str(zipedWithUniqueId_rdd.count()))\n",
    "print(\"sampled_rdd count : \" + str(sampled_rdd.count()))\n",
    "printRDD(sampled_rdd,5)"
   ]
  },
  {
   "cell_type": "code",
   "execution_count": 20,
   "metadata": {
    "colab": {
     "base_uri": "https://localhost:8080/"
    },
    "id": "qmLwYn8jRMJD",
    "outputId": "cc1efefd-5329-4048-8ad0-15630f27e794"
   },
   "outputs": [
    {
     "name": "stdout",
     "output_type": "stream",
     "text": [
      "sampled1_rdd count : 64\n",
      "sampled2_rdd count : 61\n",
      "unioned_rdd count : 125\n",
      "intersected_rdd count : 26\n"
     ]
    }
   ],
   "source": [
    "#9 - union and intersect\n",
    "sampled1_rdd = zipedWithUniqueId_rdd.sample(withReplacement=False, fraction=0.5, seed=25)\n",
    "sampled2_rdd = zipedWithUniqueId_rdd.sample(withReplacement=False, fraction=0.5, seed=50)\n",
    "unioned_rdd = sampled1_rdd.union(sampled2_rdd)\n",
    "intersected_rdd = sampled1_rdd.intersection(sampled2_rdd)\n",
    "\n",
    "print(\"sampled1_rdd count : \" + str(sampled1_rdd.count()))\n",
    "print(\"sampled2_rdd count : \" + str(sampled2_rdd.count()))\n",
    "print(\"unioned_rdd count : \" + str(unioned_rdd.count()))\n",
    "print(\"intersected_rdd count : \" + str(intersected_rdd.count()))"
   ]
  },
  {
   "cell_type": "code",
   "execution_count": 21,
   "metadata": {
    "colab": {
     "base_uri": "https://localhost:8080/"
    },
    "id": "vwR5gBeuRMJJ",
    "outputId": "c0ada981-903f-41db-ccf0-e52f9beb774b"
   },
   "outputs": [
    {
     "name": "stdout",
     "output_type": "stream",
     "text": [
      "Iris-setosa\n",
      "Iris-setosa\n",
      "Iris-setosa\n",
      "Iris-setosa\n",
      "Iris-setosa\n",
      "\n",
      "\n",
      "['Iris-setosa', 'Iris-virginica', 'Iris-versicolor']\n"
     ]
    }
   ],
   "source": [
    "#10 - distinct\n",
    "label_rdd = mapped_rdd.map(lambda line : line[-1])\n",
    "printRDD(label_rdd,5)\n",
    "\n",
    "print(\"\\n\")\n",
    "\n",
    "label_list = label_rdd.distinct().collect()\n",
    "print(label_list)"
   ]
  },
  {
   "cell_type": "code",
   "execution_count": 22,
   "metadata": {
    "colab": {
     "base_uri": "https://localhost:8080/"
    },
    "id": "3VCbyo8mRMJQ",
    "outputId": "24213580-b7cc-4fbd-90c8-4a9aa1efcc01"
   },
   "outputs": [
    {
     "name": "stdout",
     "output_type": "stream",
     "text": [
      "['5.1', '3.5', '1.4', '0.2']\n",
      "['4.9', '3.0', '1.4', '0.2']\n",
      "['4.7', '3.2', '1.3', '0.2']\n",
      "['4.6', '3.1', '1.5', '0.2']\n",
      "['5.0', '3.6', '1.4', '0.2']\n",
      "\n",
      "\n",
      "(['5.1', '3.5', '1.4', '0.2'], 'Iris-setosa')\n",
      "(['4.9', '3.0', '1.4', '0.2'], 'Iris-setosa')\n",
      "(['4.7', '3.2', '1.3', '0.2'], 'Iris-setosa')\n",
      "(['4.6', '3.1', '1.5', '0.2'], 'Iris-setosa')\n",
      "(['5.0', '3.6', '1.4', '0.2'], 'Iris-setosa')\n",
      "\n",
      "\n"
     ]
    }
   ],
   "source": [
    "#11 - zip 2 rdd together\n",
    "feature_rdd = mapped_rdd.map(lambda line : line[0:-1])\n",
    "printRDD(feature_rdd,5)\n",
    "\n",
    "print(\"\\n\")\n",
    "\n",
    "zip_rdd = feature_rdd.zip(label_rdd)\n",
    "printRDD(zip_rdd,5)\n",
    "\n",
    "print(\"\\n\")\n",
    "\n",
    "zip_rdd = zip_rdd.map(lambda features : features + [label])"
   ]
  },
  {
   "cell_type": "code",
   "execution_count": 23,
   "metadata": {
    "colab": {
     "base_uri": "https://localhost:8080/"
    },
    "id": "GCbbwyzFRMJV",
    "outputId": "15e0996f-8e51-4d07-a6b4-3f134a881fac",
    "scrolled": false
   },
   "outputs": [
    {
     "name": "stdout",
     "output_type": "stream",
     "text": [
      "data_list size : 150\n",
      "5.1,3.5,1.4,0.2,Iris-setosa\n",
      "4.9,3.0,1.4,0.2,Iris-setosa\n",
      "4.7,3.2,1.3,0.2,Iris-setosa\n",
      "4.6,3.1,1.5,0.2,Iris-setosa\n",
      "5.0,3.6,1.4,0.2,Iris-setosa\n",
      "5.4,3.9,1.7,0.4,Iris-setosa\n",
      "4.6,3.4,1.4,0.3,Iris-setosa\n",
      "5.0,3.4,1.5,0.2,Iris-setosa\n",
      "4.4,2.9,1.4,0.2,Iris-setosa\n",
      "4.9,3.1,1.5,0.1,Iris-setosa\n",
      "5.4,3.7,1.5,0.2,Iris-setosa\n",
      "4.8,3.4,1.6,0.2,Iris-setosa\n",
      "4.8,3.0,1.4,0.1,Iris-setosa\n",
      "4.3,3.0,1.1,0.1,Iris-setosa\n",
      "5.8,4.0,1.2,0.2,Iris-setosa\n",
      "5.7,4.4,1.5,0.4,Iris-setosa\n",
      "5.4,3.9,1.3,0.4,Iris-setosa\n",
      "5.1,3.5,1.4,0.3,Iris-setosa\n",
      "5.7,3.8,1.7,0.3,Iris-setosa\n",
      "5.1,3.8,1.5,0.3,Iris-setosa\n",
      "5.4,3.4,1.7,0.2,Iris-setosa\n",
      "5.1,3.7,1.5,0.4,Iris-setosa\n",
      "4.6,3.6,1.0,0.2,Iris-setosa\n",
      "5.1,3.3,1.7,0.5,Iris-setosa\n",
      "4.8,3.4,1.9,0.2,Iris-setosa\n",
      "5.0,3.0,1.6,0.2,Iris-setosa\n",
      "5.0,3.4,1.6,0.4,Iris-setosa\n",
      "5.2,3.5,1.5,0.2,Iris-setosa\n",
      "5.2,3.4,1.4,0.2,Iris-setosa\n",
      "4.7,3.2,1.6,0.2,Iris-setosa\n",
      "4.8,3.1,1.6,0.2,Iris-setosa\n",
      "5.4,3.4,1.5,0.4,Iris-setosa\n",
      "5.2,4.1,1.5,0.1,Iris-setosa\n",
      "5.5,4.2,1.4,0.2,Iris-setosa\n",
      "4.9,3.1,1.5,0.1,Iris-setosa\n",
      "5.0,3.2,1.2,0.2,Iris-setosa\n",
      "5.5,3.5,1.3,0.2,Iris-setosa\n",
      "4.9,3.1,1.5,0.1,Iris-setosa\n",
      "4.4,3.0,1.3,0.2,Iris-setosa\n",
      "5.1,3.4,1.5,0.2,Iris-setosa\n",
      "5.0,3.5,1.3,0.3,Iris-setosa\n",
      "4.5,2.3,1.3,0.3,Iris-setosa\n",
      "4.4,3.2,1.3,0.2,Iris-setosa\n",
      "5.0,3.5,1.6,0.6,Iris-setosa\n",
      "5.1,3.8,1.9,0.4,Iris-setosa\n",
      "4.8,3.0,1.4,0.3,Iris-setosa\n",
      "5.1,3.8,1.6,0.2,Iris-setosa\n",
      "4.6,3.2,1.4,0.2,Iris-setosa\n",
      "5.3,3.7,1.5,0.2,Iris-setosa\n",
      "5.0,3.3,1.4,0.2,Iris-setosa\n",
      "7.0,3.2,4.7,1.4,Iris-versicolor\n",
      "6.4,3.2,4.5,1.5,Iris-versicolor\n",
      "6.9,3.1,4.9,1.5,Iris-versicolor\n",
      "5.5,2.3,4.0,1.3,Iris-versicolor\n",
      "6.5,2.8,4.6,1.5,Iris-versicolor\n",
      "5.7,2.8,4.5,1.3,Iris-versicolor\n",
      "6.3,3.3,4.7,1.6,Iris-versicolor\n",
      "4.9,2.4,3.3,1.0,Iris-versicolor\n",
      "6.6,2.9,4.6,1.3,Iris-versicolor\n",
      "5.2,2.7,3.9,1.4,Iris-versicolor\n",
      "5.0,2.0,3.5,1.0,Iris-versicolor\n",
      "5.9,3.0,4.2,1.5,Iris-versicolor\n",
      "6.0,2.2,4.0,1.0,Iris-versicolor\n",
      "6.1,2.9,4.7,1.4,Iris-versicolor\n",
      "5.6,2.9,3.6,1.3,Iris-versicolor\n",
      "6.7,3.1,4.4,1.4,Iris-versicolor\n",
      "5.6,3.0,4.5,1.5,Iris-versicolor\n",
      "5.8,2.7,4.1,1.0,Iris-versicolor\n",
      "6.2,2.2,4.5,1.5,Iris-versicolor\n",
      "5.6,2.5,3.9,1.1,Iris-versicolor\n",
      "5.9,3.2,4.8,1.8,Iris-versicolor\n",
      "6.1,2.8,4.0,1.3,Iris-versicolor\n",
      "6.3,2.5,4.9,1.5,Iris-versicolor\n",
      "6.1,2.8,4.7,1.2,Iris-versicolor\n",
      "6.4,2.9,4.3,1.3,Iris-versicolor\n",
      "6.6,3.0,4.4,1.4,Iris-versicolor\n",
      "6.8,2.8,4.8,1.4,Iris-versicolor\n",
      "6.7,3.0,5.0,1.7,Iris-versicolor\n",
      "6.0,2.9,4.5,1.5,Iris-versicolor\n",
      "5.7,2.6,3.5,1.0,Iris-versicolor\n",
      "5.5,2.4,3.8,1.1,Iris-versicolor\n",
      "5.5,2.4,3.7,1.0,Iris-versicolor\n",
      "5.8,2.7,3.9,1.2,Iris-versicolor\n",
      "6.0,2.7,5.1,1.6,Iris-versicolor\n",
      "5.4,3.0,4.5,1.5,Iris-versicolor\n",
      "6.0,3.4,4.5,1.6,Iris-versicolor\n",
      "6.7,3.1,4.7,1.5,Iris-versicolor\n",
      "6.3,2.3,4.4,1.3,Iris-versicolor\n",
      "5.6,3.0,4.1,1.3,Iris-versicolor\n",
      "5.5,2.5,4.0,1.3,Iris-versicolor\n",
      "5.5,2.6,4.4,1.2,Iris-versicolor\n",
      "6.1,3.0,4.6,1.4,Iris-versicolor\n",
      "5.8,2.6,4.0,1.2,Iris-versicolor\n",
      "5.0,2.3,3.3,1.0,Iris-versicolor\n",
      "5.6,2.7,4.2,1.3,Iris-versicolor\n",
      "5.7,3.0,4.2,1.2,Iris-versicolor\n",
      "5.7,2.9,4.2,1.3,Iris-versicolor\n",
      "6.2,2.9,4.3,1.3,Iris-versicolor\n",
      "5.1,2.5,3.0,1.1,Iris-versicolor\n",
      "5.7,2.8,4.1,1.3,Iris-versicolor\n",
      "6.3,3.3,6.0,2.5,Iris-virginica\n",
      "5.8,2.7,5.1,1.9,Iris-virginica\n",
      "7.1,3.0,5.9,2.1,Iris-virginica\n",
      "6.3,2.9,5.6,1.8,Iris-virginica\n",
      "6.5,3.0,5.8,2.2,Iris-virginica\n",
      "7.6,3.0,6.6,2.1,Iris-virginica\n",
      "4.9,2.5,4.5,1.7,Iris-virginica\n",
      "7.3,2.9,6.3,1.8,Iris-virginica\n",
      "6.7,2.5,5.8,1.8,Iris-virginica\n",
      "7.2,3.6,6.1,2.5,Iris-virginica\n",
      "6.5,3.2,5.1,2.0,Iris-virginica\n",
      "6.4,2.7,5.3,1.9,Iris-virginica\n",
      "6.8,3.0,5.5,2.1,Iris-virginica\n",
      "5.7,2.5,5.0,2.0,Iris-virginica\n",
      "5.8,2.8,5.1,2.4,Iris-virginica\n",
      "6.4,3.2,5.3,2.3,Iris-virginica\n",
      "6.5,3.0,5.5,1.8,Iris-virginica\n",
      "7.7,3.8,6.7,2.2,Iris-virginica\n",
      "7.7,2.6,6.9,2.3,Iris-virginica\n",
      "6.0,2.2,5.0,1.5,Iris-virginica\n",
      "6.9,3.2,5.7,2.3,Iris-virginica\n",
      "5.6,2.8,4.9,2.0,Iris-virginica\n",
      "7.7,2.8,6.7,2.0,Iris-virginica\n",
      "6.3,2.7,4.9,1.8,Iris-virginica\n",
      "6.7,3.3,5.7,2.1,Iris-virginica\n",
      "7.2,3.2,6.0,1.8,Iris-virginica\n",
      "6.2,2.8,4.8,1.8,Iris-virginica\n",
      "6.1,3.0,4.9,1.8,Iris-virginica\n",
      "6.4,2.8,5.6,2.1,Iris-virginica\n",
      "7.2,3.0,5.8,1.6,Iris-virginica\n",
      "7.4,2.8,6.1,1.9,Iris-virginica\n",
      "7.9,3.8,6.4,2.0,Iris-virginica\n",
      "6.4,2.8,5.6,2.2,Iris-virginica\n",
      "6.3,2.8,5.1,1.5,Iris-virginica\n",
      "6.1,2.6,5.6,1.4,Iris-virginica\n",
      "7.7,3.0,6.1,2.3,Iris-virginica\n",
      "6.3,3.4,5.6,2.4,Iris-virginica\n",
      "6.4,3.1,5.5,1.8,Iris-virginica\n",
      "6.0,3.0,4.8,1.8,Iris-virginica\n",
      "6.9,3.1,5.4,2.1,Iris-virginica\n",
      "6.7,3.1,5.6,2.4,Iris-virginica\n",
      "6.9,3.1,5.1,2.3,Iris-virginica\n",
      "5.8,2.7,5.1,1.9,Iris-virginica\n",
      "6.8,3.2,5.9,2.3,Iris-virginica\n",
      "6.7,3.3,5.7,2.5,Iris-virginica\n",
      "6.7,3.0,5.2,2.3,Iris-virginica\n",
      "6.3,2.5,5.0,1.9,Iris-virginica\n",
      "6.5,3.0,5.2,2.0,Iris-virginica\n",
      "6.2,3.4,5.4,2.3,Iris-virginica\n",
      "5.9,3.0,5.1,1.8,Iris-virginica\n"
     ]
    }
   ],
   "source": [
    "#12 - collect\n",
    "data_list = rdd.collect()\n",
    "#Too many result => not a good method when deal with big data\n",
    "print(\"data_list size : \" + str(len(data_list)))\n",
    "for data in data_list:\n",
    "    print(data)"
   ]
  },
  {
   "cell_type": "code",
   "execution_count": 24,
   "metadata": {
    "colab": {
     "base_uri": "https://localhost:8080/"
    },
    "id": "kZKsfG3ZRMJZ",
    "outputId": "2079760e-30d9-4bd6-b13f-a85ffb29fbf4"
   },
   "outputs": [
    {
     "name": "stdout",
     "output_type": "stream",
     "text": [
      "data_list size : 5\n",
      "5.1,3.5,1.4,0.2,Iris-setosa\n",
      "4.9,3.0,1.4,0.2,Iris-setosa\n",
      "4.7,3.2,1.3,0.2,Iris-setosa\n",
      "4.6,3.1,1.5,0.2,Iris-setosa\n",
      "5.0,3.6,1.4,0.2,Iris-setosa\n"
     ]
    }
   ],
   "source": [
    "#13 - take\n",
    "data_list = rdd.take(5)\n",
    "#Select first n rows\n",
    "print(\"data_list size : \" + str(len(data_list)))\n",
    "for data in data_list:\n",
    "    print(data)"
   ]
  },
  {
   "cell_type": "code",
   "execution_count": 25,
   "metadata": {
    "colab": {
     "base_uri": "https://localhost:8080/"
    },
    "id": "FYXq6DZWRMJe",
    "outputId": "2a998785-41a8-4807-e128-4739fa59496f"
   },
   "outputs": [
    {
     "name": "stdout",
     "output_type": "stream",
     "text": [
      "data_list size : 5\n",
      "7.9,3.8,6.4,2.0,Iris-virginica\n",
      "7.7,3.8,6.7,2.2,Iris-virginica\n",
      "7.7,3.0,6.1,2.3,Iris-virginica\n",
      "7.7,2.8,6.7,2.0,Iris-virginica\n",
      "7.7,2.6,6.9,2.3,Iris-virginica\n"
     ]
    }
   ],
   "source": [
    "#14 - top\n",
    "data_list = rdd.top(5)\n",
    "#Select top n rows\n",
    "print(\"data_list size : \" + str(len(data_list)))\n",
    "for data in data_list:\n",
    "    print(data)"
   ]
  }
 ],
 "metadata": {
  "colab": {
   "collapsed_sections": [],
   "name": "2_Pyspark_Basic_RDD.ipynb",
   "provenance": []
  },
  "kernelspec": {
   "display_name": "Python 3",
   "language": "python",
   "name": "python3"
  },
  "language_info": {
   "codemirror_mode": {
    "name": "ipython",
    "version": 3
   },
   "file_extension": ".py",
   "mimetype": "text/x-python",
   "name": "python",
   "nbconvert_exporter": "python",
   "pygments_lexer": "ipython3",
   "version": "3.8.3"
  },
  "toc": {
   "base_numbering": 1,
   "nav_menu": {},
   "number_sections": true,
   "sideBar": true,
   "skip_h1_title": false,
   "title_cell": "Table of Contents",
   "title_sidebar": "Contents",
   "toc_cell": false,
   "toc_position": {},
   "toc_section_display": true,
   "toc_window_display": false
  }
 },
 "nbformat": 4,
 "nbformat_minor": 1
}
